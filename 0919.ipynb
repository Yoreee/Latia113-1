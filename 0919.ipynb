{
  "nbformat": 4,
  "nbformat_minor": 0,
  "metadata": {
    "colab": {
      "provenance": [],
      "gpuType": "T4"
    },
    "kernelspec": {
      "name": "python3",
      "display_name": "Python 3"
    },
    "language_info": {
      "name": "python"
    },
    "accelerator": "GPU"
  },
  "cells": [
    {
      "cell_type": "code",
      "execution_count": null,
      "metadata": {
        "colab": {
          "base_uri": "https://localhost:8080/"
        },
        "id": "YDdiwcAoPgpr",
        "outputId": "5da1a2d0-8a52-4371-f403-a0c225c4675a"
      },
      "outputs": [
        {
          "output_type": "stream",
          "name": "stdout",
          "text": [
            "hello world\n"
          ]
        }
      ],
      "source": [
        "print(\"hello world\")"
      ]
    },
    {
      "cell_type": "code",
      "source": [
        "a = 1\n",
        "b = c = a\n",
        "print(a,b,c)"
      ],
      "metadata": {
        "colab": {
          "base_uri": "https://localhost:8080/"
        },
        "id": "KMCdJv5fSU2J",
        "outputId": "1439358d-af21-44fe-874f-1fbeb4810a2b"
      },
      "execution_count": null,
      "outputs": [
        {
          "output_type": "stream",
          "name": "stdout",
          "text": [
            "1 1 1\n"
          ]
        }
      ]
    },
    {
      "cell_type": "code",
      "source": [
        "a = 1\n",
        "b = a\n",
        "a = 2 #把a存到2裡面去\n",
        "print(a)\n",
        "print(b)"
      ],
      "metadata": {
        "colab": {
          "base_uri": "https://localhost:8080/"
        },
        "id": "xIMCLOh8TSlU",
        "outputId": "13baa868-c8bd-4d9e-946f-32042451dfe7"
      },
      "execution_count": null,
      "outputs": [
        {
          "output_type": "stream",
          "name": "stdout",
          "text": [
            "2\n",
            "1\n"
          ]
        }
      ]
    },
    {
      "cell_type": "code",
      "source": [
        "a = \"\"\"1234565748153135334531515\"\"\"\n",
        "print(a)"
      ],
      "metadata": {
        "colab": {
          "base_uri": "https://localhost:8080/"
        },
        "id": "XvWXtme6T9hk",
        "outputId": "1006cef1-76ef-45fa-bcfc-cae158590942"
      },
      "execution_count": null,
      "outputs": [
        {
          "output_type": "stream",
          "name": "stdout",
          "text": [
            "1234565748153135334531515\n"
          ]
        }
      ]
    },
    {
      "cell_type": "code",
      "source": [
        "a = \"0123456789abcdef\"\n",
        "print(a[0])\n",
        "print(a[3])\n",
        "print(a[-1])\n",
        "print(a[:]) #印出全部字元\n",
        "print(a[5:])\n",
        "print(a[:5])\n",
        "print(a[5:10])\n",
        "print(a[5:-3])\n",
        "print(a[5:10:2])\n"
      ],
      "metadata": {
        "colab": {
          "base_uri": "https://localhost:8080/"
        },
        "id": "DkdrQeOQUu1M",
        "outputId": "2e33d1d1-649d-4daa-aa06-a96a4c24bf21"
      },
      "execution_count": null,
      "outputs": [
        {
          "output_type": "stream",
          "name": "stdout",
          "text": [
            "0\n",
            "3\n",
            "f\n",
            "0123456789abcdef\n",
            "56789abcdef\n",
            "01234\n",
            "56789\n",
            "56789abc\n",
            "579\n"
          ]
        }
      ]
    },
    {
      "cell_type": "code",
      "source": [
        "a= 'hello world'\n",
        "print(len(a))\n",
        "\n",
        "a= 'hello world, I am yoyo, how are you?'\n",
        "b = a.split(',')\n",
        "c = a.split(' ')\n",
        "d = a.split()\n",
        "print(b)\n",
        "print(c)\n",
        "print(d)"
      ],
      "metadata": {
        "colab": {
          "base_uri": "https://localhost:8080/"
        },
        "id": "_ds0UkxKXLjx",
        "outputId": "e1bf3012-d1b1-4ddd-ce7d-78b5284b1d75"
      },
      "execution_count": null,
      "outputs": [
        {
          "output_type": "stream",
          "name": "stdout",
          "text": [
            "11\n",
            "['hello world', ' I am yoyo', ' how are you?']\n",
            "['hello', 'world,', 'I', 'am', 'yoyo,', 'how', 'are', 'you?']\n",
            "['hello', 'world,', 'I', 'am', 'yoyo,', 'how', 'are', 'you?']\n"
          ]
        }
      ]
    },
    {
      "cell_type": "code",
      "source": [
        "a= ['apple','banana','orange']\n",
        "b= [1,2,3,4,5,]\n",
        "c=['apple',1,2,3,['orange']]\n",
        "d= list('apple')\n",
        "print(a)\n",
        "print(b)\n",
        "print(c)\n",
        "print(d)"
      ],
      "metadata": {
        "colab": {
          "base_uri": "https://localhost:8080/"
        },
        "id": "QmqT2-60bfa7",
        "outputId": "3f8742cd-3acd-4e02-b003-cd74a603c95a"
      },
      "execution_count": null,
      "outputs": [
        {
          "output_type": "stream",
          "name": "stdout",
          "text": [
            "['apple', 'banana', 'orange']\n",
            "[1, 2, 3, 4, 5]\n",
            "['apple', 1, 2, 3, ['orange']]\n",
            "['a', 'p', 'p', 'l', 'e']\n"
          ]
        }
      ]
    },
    {
      "cell_type": "code",
      "source": [
        "t = ('apple','banana','orange','grap') #把左邊指定給右邊\n",
        "a, b, c, d = t\n",
        "print(a)\n",
        "print(b)\n",
        "print(c)\n",
        "print(d)\n",
        "print()\n",
        "print(t[0])\n",
        "print(t[1])\n",
        "print(t[2])\n",
        "print(t[3])\n"
      ],
      "metadata": {
        "colab": {
          "base_uri": "https://localhost:8080/"
        },
        "id": "jWIVjfKndVae",
        "outputId": "ab8733a7-3fe8-41d0-fc0b-e8d96e98c2c9"
      },
      "execution_count": null,
      "outputs": [
        {
          "output_type": "stream",
          "name": "stdout",
          "text": [
            "apple\n",
            "banana\n",
            "orange\n",
            "grap\n",
            "\n",
            "apple\n",
            "banana\n",
            "orange\n",
            "grap\n"
          ]
        }
      ]
    },
    {
      "cell_type": "code",
      "source": [
        "#tuple使用時無法更改其值\n",
        "t1 = ('apple','banana','orange')\n",
        "t2 = ('grap','pineapple')\n",
        "t = t1 + t2\n",
        "print(t)"
      ],
      "metadata": {
        "colab": {
          "base_uri": "https://localhost:8080/"
        },
        "id": "HFG-OQd5d-rQ",
        "outputId": "9c3ace7c-63e0-4b27-c0b3-a6f132418f3e"
      },
      "execution_count": null,
      "outputs": [
        {
          "output_type": "stream",
          "name": "stdout",
          "text": [
            "('apple', 'banana', 'orange', 'grap', 'pineapple')\n"
          ]
        }
      ]
    },
    {
      "cell_type": "code",
      "source": [
        "a = dict(name='yoyo',age=18, eat=['apple','banana']) #每個冒號隔出key and value(鍵值對)\n",
        "print(a)\n",
        "print(type(a))"
      ],
      "metadata": {
        "colab": {
          "base_uri": "https://localhost:8080/"
        },
        "id": "5Hji6utsfPB_",
        "outputId": "81d6b3e1-c1e7-490e-fec4-9304bec33721"
      },
      "execution_count": null,
      "outputs": [
        {
          "output_type": "stream",
          "name": "stdout",
          "text": [
            "{'name': 'yoyo', 'age': 18, 'eat': ['apple', 'banana']}\n",
            "<class 'dict'>\n"
          ]
        }
      ]
    },
    {
      "cell_type": "markdown",
      "source": [
        "globel v.s. local"
      ],
      "metadata": {
        "id": "vq1-qQZbpjzA"
      }
    },
    {
      "cell_type": "code",
      "source": [
        "a = 2\n",
        "b = 3\n",
        "if a > b:\n",
        "  print('true') #上述為真會回傳true\n",
        "print(\"false\") #如果是伪會傳回false\n",
        "print()\n",
        "\n",
        "a = 2\n",
        "b = 1\n",
        "if a > b:\n",
        "  print('true')\n",
        "print(\"false\")\n"
      ],
      "metadata": {
        "colab": {
          "base_uri": "https://localhost:8080/"
        },
        "id": "P3lcBwt-pXmp",
        "outputId": "fb489c32-5105-4c1a-b92d-97cb14ea0d55"
      },
      "execution_count": 1,
      "outputs": [
        {
          "output_type": "stream",
          "name": "stdout",
          "text": [
            "false\n",
            "\n",
            "true\n",
            "false\n"
          ]
        }
      ]
    },
    {
      "cell_type": "code",
      "source": [
        "a = 2\n",
        "b = 3\n",
        "if a > b:\n",
        "  print(\"true\")\n",
        "else:\n",
        "  print(\"false\")\n",
        "print(\"ok\")"
      ],
      "metadata": {
        "colab": {
          "base_uri": "https://localhost:8080/"
        },
        "id": "yCHsMg-uqGMO",
        "outputId": "aee8f967-b524-49e4-deaf-e9247239d086"
      },
      "execution_count": 2,
      "outputs": [
        {
          "output_type": "stream",
          "name": "stdout",
          "text": [
            "false\n",
            "ok\n"
          ]
        }
      ]
    },
    {
      "cell_type": "code",
      "source": [
        "a = 3\n",
        "b = 2\n",
        "if a > b:\n",
        "  print(\"hello\")\n",
        "else:\n",
        "  print(\"world\")\n",
        "print(\"ok\")"
      ],
      "metadata": {
        "colab": {
          "base_uri": "https://localhost:8080/"
        },
        "id": "xq-OaQnyqXac",
        "outputId": "193d107a-22af-40d0-fa15-2a722cc79dfc"
      },
      "execution_count": null,
      "outputs": [
        {
          "output_type": "stream",
          "name": "stdout",
          "text": [
            "hello\n",
            "ok\n"
          ]
        }
      ]
    },
    {
      "cell_type": "code",
      "source": [
        "a = 2\n",
        "b = 3\n",
        "if a < b:\n",
        "  print('a<b')\n",
        "  if a==1:\n",
        "    print('a==1')\n",
        "  elif a==2:\n",
        "    print('a==2')\n",
        "  elif a==3:\n",
        "    print('a==3')\n",
        "elif a>b:\n",
        "  print('a>b')\n",
        "else:\n",
        "  print('a=b')\n",
        "print('ok')"
      ],
      "metadata": {
        "colab": {
          "base_uri": "https://localhost:8080/"
        },
        "id": "tLnEGZ9HqfFE",
        "outputId": "00b447d5-480f-47ee-b1de-31a62809fe03"
      },
      "execution_count": null,
      "outputs": [
        {
          "output_type": "stream",
          "name": "stdout",
          "text": [
            "a<b\n",
            "a==2\n",
            "ok\n"
          ]
        }
      ]
    },
    {
      "cell_type": "code",
      "source": [
        "a=6\n",
        "b=4\n",
        "c=0\n",
        "if a>b or a<c and a==2 or b==4:\n",
        "  print('true')\n",
        "else:\n",
        "  print('false')"
      ],
      "metadata": {
        "colab": {
          "base_uri": "https://localhost:8080/"
        },
        "id": "D2VamlDkrK6i",
        "outputId": "89a1cc89-6d97-4fc0-e466-130bba27f008"
      },
      "execution_count": 4,
      "outputs": [
        {
          "output_type": "stream",
          "name": "stdout",
          "text": [
            "true\n"
          ]
        }
      ]
    },
    {
      "cell_type": "code",
      "source": [
        "x = (10>8) and (10>20)\n",
        "x"
      ],
      "metadata": {
        "colab": {
          "base_uri": "https://localhost:8080/"
        },
        "id": "TUIPFHY0yO5S",
        "outputId": "676d6995-db7e-4237-ae4a-aa190b071006"
      },
      "execution_count": 6,
      "outputs": [
        {
          "output_type": "execute_result",
          "data": {
            "text/plain": [
              "False"
            ]
          },
          "metadata": {},
          "execution_count": 6
        }
      ]
    },
    {
      "cell_type": "code",
      "source": [
        "x = not(10>8) #true 經過not運算會傳回 false\n",
        "x"
      ],
      "metadata": {
        "colab": {
          "base_uri": "https://localhost:8080/"
        },
        "id": "tk82Ax16yefX",
        "outputId": "2e8ed74f-3032-4c23-a272-70214934a46f"
      },
      "execution_count": 7,
      "outputs": [
        {
          "output_type": "execute_result",
          "data": {
            "text/plain": [
              "False"
            ]
          },
          "metadata": {},
          "execution_count": 7
        }
      ]
    },
    {
      "cell_type": "markdown",
      "source": [
        "布林值這種資料型態通常只有是或否"
      ],
      "metadata": {
        "id": "qaDT-F5qzRq6"
      }
    },
    {
      "cell_type": "code",
      "source": [
        "not 5 #傳回相反布林值"
      ],
      "metadata": {
        "colab": {
          "base_uri": "https://localhost:8080/"
        },
        "id": "ZRpbBGjozcXL",
        "outputId": "8a0b3b4f-c7e4-41bc-8b2c-9fe6814c041b"
      },
      "execution_count": 10,
      "outputs": [
        {
          "output_type": "execute_result",
          "data": {
            "text/plain": [
              "True"
            ]
          },
          "metadata": {},
          "execution_count": 10
        }
      ]
    },
    {
      "cell_type": "code",
      "source": [
        "for i in 'abc':\n",
        "  print(i)"
      ],
      "metadata": {
        "colab": {
          "base_uri": "https://localhost:8080/"
        },
        "id": "CGrajY2Dr3oh",
        "outputId": "f95000a7-81af-4856-fe28-c9ea2ea9016b"
      },
      "execution_count": null,
      "outputs": [
        {
          "output_type": "stream",
          "name": "stdout",
          "text": [
            "a\n",
            "b\n",
            "c\n"
          ]
        }
      ]
    },
    {
      "cell_type": "code",
      "source": [
        "#依序印出字元\n",
        "for a in ['x','y','z']:\n",
        "  for b in [1,2,3]:\n",
        "    print(b)\n",
        "  print(a)"
      ],
      "metadata": {
        "colab": {
          "base_uri": "https://localhost:8080/"
        },
        "id": "hAJlD-iYsDSP",
        "outputId": "64485b59-7a7c-4919-fcd8-88193a98f9fa"
      },
      "execution_count": null,
      "outputs": [
        {
          "output_type": "stream",
          "name": "stdout",
          "text": [
            "1\n",
            "2\n",
            "3\n",
            "x\n",
            "1\n",
            "2\n",
            "3\n",
            "y\n",
            "1\n",
            "2\n",
            "3\n",
            "z\n"
          ]
        }
      ]
    },
    {
      "cell_type": "markdown",
      "source": [
        "此程式分為外迴圈與內迴圈(x讀入後，進內迴圈，印出每個組合後，就會跳出內迴圈，重新跑一次外迴圈)"
      ],
      "metadata": {
        "id": "Q3IfA27fskHm"
      }
    },
    {
      "cell_type": "code",
      "source": [
        "for a in ['x','y','z']:\n",
        "  for b in [1,2,3]:\n",
        "    print(f'{a}{b}')"
      ],
      "metadata": {
        "colab": {
          "base_uri": "https://localhost:8080/"
        },
        "id": "GCI4ERzUsS2P",
        "outputId": "35e6ca0f-5073-4550-fcd1-7a0ee842a0ae"
      },
      "execution_count": null,
      "outputs": [
        {
          "output_type": "stream",
          "name": "stdout",
          "text": [
            "x1\n",
            "x2\n",
            "x3\n",
            "y1\n",
            "y2\n",
            "y3\n",
            "z1\n",
            "z2\n",
            "z3\n"
          ]
        }
      ]
    },
    {
      "cell_type": "code",
      "source": [
        "i = [] #空串列\n",
        "for t in range(10):\n",
        "  t+=1\n",
        "  i.append(t)\n",
        "print(i)"
      ],
      "metadata": {
        "colab": {
          "base_uri": "https://localhost:8080/"
        },
        "id": "fJazlr_xss21",
        "outputId": "60d21fc8-07b7-4000-f001-7222022821d1"
      },
      "execution_count": null,
      "outputs": [
        {
          "output_type": "stream",
          "name": "stdout",
          "text": [
            "[1, 2, 3, 4, 5, 6, 7, 8, 9, 10]\n"
          ]
        }
      ]
    },
    {
      "cell_type": "code",
      "source": [
        "try:\n",
        "  a = input('輸入數字: ')\n",
        "  a =int(a) #轉成整數\n",
        "  print(a + 1)\n",
        "except:\n",
        "  pass\n",
        "print('hello')\n"
      ],
      "metadata": {
        "colab": {
          "base_uri": "https://localhost:8080/"
        },
        "id": "2KFYo_0RtNfT",
        "outputId": "1bd0398b-03e3-435f-8c7c-4ff19bbbc6f1"
      },
      "execution_count": null,
      "outputs": [
        {
          "output_type": "stream",
          "name": "stdout",
          "text": [
            "輸入數字: 10\n",
            "11\n",
            "hello\n"
          ]
        }
      ]
    },
    {
      "cell_type": "code",
      "source": [
        "while True: #測資\n",
        "  try:\n",
        "    a = input('輸入數字: ')\n",
        "    a = int(a)\n",
        "    if (a> 20): #條件判斷成立則執行區塊內程式\n",
        "     print(a + 1)\n",
        "    else: #如果條件判斷不成立則執行此部分的程式\n",
        "     print('invalid')\n",
        "  except:\n",
        "    break"
      ],
      "metadata": {
        "colab": {
          "base_uri": "https://localhost:8080/"
        },
        "id": "HeEOQ2Pd0D4p",
        "outputId": "f08a72bd-f352-405c-ec95-a5b899fa097e"
      },
      "execution_count": 2,
      "outputs": [
        {
          "name": "stdout",
          "output_type": "stream",
          "text": [
            "輸入數字: 12\n",
            "invalid\n",
            "輸入數字: 21\n",
            "22\n",
            "輸入數字: q\n"
          ]
        }
      ]
    },
    {
      "cell_type": "code",
      "source": [
        "print(\"輸出絕對值\")\n",
        "num = input(\"請輸入任意整數值: \")\n",
        "x = int(num)\n",
        "if (int(x) < 0):\n",
        "  x = -x\n",
        "print(f\"絕對值是{x}\")"
      ],
      "metadata": {
        "colab": {
          "base_uri": "https://localhost:8080/"
        },
        "id": "IQKGmxCO2ULR",
        "outputId": "d90e63a7-5fc8-42a3-9a89-6f0daa816425"
      },
      "execution_count": 3,
      "outputs": [
        {
          "output_type": "stream",
          "name": "stdout",
          "text": [
            "輸出絕對值\n",
            "請輸入任意整數值: 98\n",
            "絕對值是98\n"
          ]
        }
      ]
    },
    {
      "cell_type": "markdown",
      "source": [
        "在網路爬蟲存取資料時，常會遇上不知道可以獲得多少筆資料，(1-100比之間)，如果最多只想取10筆當作證據，如果小於10筆則取多少皆使用，設計概念如下"
      ],
      "metadata": {
        "id": "gEgK1Ba34LOG"
      }
    },
    {
      "cell_type": "code",
      "source": [
        "items = eval(input(\"請輸入一個數字: \"))\n",
        "items = 10 if items >= 10 else items\n",
        "print(items)"
      ],
      "metadata": {
        "colab": {
          "base_uri": "https://localhost:8080/"
        },
        "id": "vfH6qsWV3rkl",
        "outputId": "7694ea6f-b342-43dc-9dcf-08a9e3c31d4d"
      },
      "execution_count": 4,
      "outputs": [
        {
          "output_type": "stream",
          "name": "stdout",
          "text": [
            "請輸入一個數字: 32\n",
            "10\n"
          ]
        }
      ]
    },
    {
      "cell_type": "code",
      "source": [
        "a = []\n",
        "for i in range(1,10):\n",
        "  a.append(i*i) #把新的資料append到串列中\n",
        "print(a)\n",
        "\n",
        "#使用串列生成式\n",
        "b = [j*j for j in range(1,10)] #適用於較不複雜的程式\n",
        "print(b)"
      ],
      "metadata": {
        "colab": {
          "base_uri": "https://localhost:8080/"
        },
        "id": "OuBMzuNMt__Z",
        "outputId": "f1c5d803-a201-463c-c92b-82a8e951353e"
      },
      "execution_count": null,
      "outputs": [
        {
          "output_type": "stream",
          "name": "stdout",
          "text": [
            "[1, 4, 9, 16, 25, 36, 49, 64, 81]\n",
            "[1, 4, 9, 16, 25, 36, 49, 64, 81]\n"
          ]
        }
      ]
    }
  ]
}